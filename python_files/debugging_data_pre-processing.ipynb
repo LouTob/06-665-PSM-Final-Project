{
 "cells": [
  {
   "cell_type": "code",
   "execution_count": 29,
   "metadata": {},
   "outputs": [
    {
     "data": {
      "text/plain": [
       "(1, 6, 500)"
      ]
     },
     "execution_count": 29,
     "metadata": {},
     "output_type": "execute_result"
    }
   ],
   "source": [
    "import numpy as np\n",
    "import matplotlib.pyplot as plt\n",
    "import torch\n",
    "\n",
    "# I want a 1 x 6 x 500 np array of random numbers\n",
    "N = 1\n",
    "num_timesteps = 500\n",
    "dataset = np.random.rand(N, 6, num_timesteps)\n",
    "dataset.shape"
   ]
  },
  {
   "cell_type": "code",
   "execution_count": 30,
   "metadata": {},
   "outputs": [
    {
     "data": {
      "text/plain": [
       "(1, 7, 500)"
      ]
     },
     "execution_count": 30,
     "metadata": {},
     "output_type": "execute_result"
    }
   ],
   "source": [
    "data_2 = np.random.rand(N, 1, num_timesteps)\n",
    "# data_0 = dataset + data_2\n",
    "data_0 = np.concatenate((dataset, data_2), axis=1)\n",
    "data_0.shape"
   ]
  },
  {
   "cell_type": "code",
   "execution_count": 31,
   "metadata": {},
   "outputs": [
    {
     "name": "stdout",
     "output_type": "stream",
     "text": [
      "pre-processing data...\n",
      "n: 0 data shape: (1, 7, 500)\n",
      "[[0.46253495 0.33580136 0.15751684 0.99795332 0.37458447 0.74284439\n",
      "  0.84815895 0.53321081 0.36184148]\n",
      " [0.         0.         0.         0.         0.         0.\n",
      "  0.         0.         0.        ]\n",
      " [0.         0.         0.         0.         0.         0.\n",
      "  0.         0.         0.        ]\n",
      " [0.         0.         0.         0.         0.         0.\n",
      "  0.         0.         0.        ]\n",
      " [0.         0.         0.         0.         0.         0.\n",
      "  0.         0.         0.        ]\n",
      " [0.         0.         0.         0.         0.         0.\n",
      "  0.         0.         0.        ]\n",
      " [0.         0.         0.         0.         0.         0.\n",
      "  0.         0.         0.        ]\n",
      " [0.         0.         0.         0.         0.         0.\n",
      "  0.         0.         0.        ]\n",
      " [0.         0.         0.         0.         0.         0.\n",
      "  0.         0.         0.        ]\n",
      " [0.         0.         0.         0.         0.         0.\n",
      "  0.         0.         0.        ]]\n",
      "[[0.46253495 0.33580136 0.15751684 0.99795332 0.37458447 0.74284439\n",
      "  0.84815895 0.53321081 0.36184148]\n",
      " [0.33580136 0.15751684 0.99795332 0.36184148 0.74284439 0.84815895\n",
      "  0.53321081 0.25354489 0.41725656]\n",
      " [0.         0.         0.         0.         0.         0.\n",
      "  0.         0.         0.        ]\n",
      " [0.         0.         0.         0.         0.         0.\n",
      "  0.         0.         0.        ]\n",
      " [0.         0.         0.         0.         0.         0.\n",
      "  0.         0.         0.        ]\n",
      " [0.         0.         0.         0.         0.         0.\n",
      "  0.         0.         0.        ]\n",
      " [0.         0.         0.         0.         0.         0.\n",
      "  0.         0.         0.        ]\n",
      " [0.         0.         0.         0.         0.         0.\n",
      "  0.         0.         0.        ]\n",
      " [0.         0.         0.         0.         0.         0.\n",
      "  0.         0.         0.        ]\n",
      " [0.         0.         0.         0.         0.         0.\n",
      "  0.         0.         0.        ]]\n",
      "[[0.46253495 0.33580136 0.15751684 0.99795332 0.37458447 0.74284439\n",
      "  0.84815895 0.53321081 0.36184148]\n",
      " [0.33580136 0.15751684 0.99795332 0.36184148 0.74284439 0.84815895\n",
      "  0.53321081 0.25354489 0.41725656]\n",
      " [0.15751684 0.99795332 0.36184148 0.41725656 0.84815895 0.53321081\n",
      "  0.25354489 0.22097125 0.7512127 ]\n",
      " [0.         0.         0.         0.         0.         0.\n",
      "  0.         0.         0.        ]\n",
      " [0.         0.         0.         0.         0.         0.\n",
      "  0.         0.         0.        ]\n",
      " [0.         0.         0.         0.         0.         0.\n",
      "  0.         0.         0.        ]\n",
      " [0.         0.         0.         0.         0.         0.\n",
      "  0.         0.         0.        ]\n",
      " [0.         0.         0.         0.         0.         0.\n",
      "  0.         0.         0.        ]\n",
      " [0.         0.         0.         0.         0.         0.\n",
      "  0.         0.         0.        ]\n",
      " [0.         0.         0.         0.         0.         0.\n",
      "  0.         0.         0.        ]]\n"
     ]
    }
   ],
   "source": [
    "\n",
    "from torch.utils.data import DataLoader\n",
    "data_list_total = np.zeros((N, num_timesteps-3, 9))\n",
    "print(\"pre-processing data...\")\n",
    "for n, data in enumerate(data_0):\n",
    "    print(\"n:\", n, \"data shape:\", data_0.shape)\n",
    "    \n",
    "    for i in range(4, 7, 1):\n",
    "        # features = data[:4, i-4:i].T # 0,1,2,3th states (4,6)\n",
    "        prev_4_reactor_temps = data[4, i-4:i] # (1,4)\n",
    "        prev_4_F_ag = data[6, i-4:i] # (1,4)\n",
    "        current_temp = data[4, i] # 4th state (1,)\n",
    "        data_list_total[n, i-4, 0:4] = prev_4_reactor_temps\n",
    "        data_list_total[n, i-4, 4:8] = prev_4_F_ag\n",
    "        data_list_total[n, i-4, 8] = current_temp\n",
    "        # print(\"features shape:\", features.shape, \"label shape:\", label.shape)\n",
    "        print((data_list_total[0,0:10,0:9]))\n",
    " \n",
    "\n",
    "\n",
    "\n"
   ]
  },
  {
   "cell_type": "code",
   "execution_count": null,
   "metadata": {},
   "outputs": [],
   "source": []
  }
 ],
 "metadata": {
  "kernelspec": {
   "display_name": "base",
   "language": "python",
   "name": "python3"
  },
  "language_info": {
   "codemirror_mode": {
    "name": "ipython",
    "version": 3
   },
   "file_extension": ".py",
   "mimetype": "text/x-python",
   "name": "python",
   "nbconvert_exporter": "python",
   "pygments_lexer": "ipython3",
   "version": "3.9.12"
  },
  "orig_nbformat": 4
 },
 "nbformat": 4,
 "nbformat_minor": 2
}
