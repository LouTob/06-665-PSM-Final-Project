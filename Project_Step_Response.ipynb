{
  "nbformat": 4,
  "nbformat_minor": 0,
  "metadata": {
    "colab": {
      "provenance": []
    },
    "kernelspec": {
      "name": "python3",
      "display_name": "Python 3"
    },
    "language_info": {
      "name": "python"
    }
  },
  "cells": [
    {
      "cell_type": "code",
      "execution_count": null,
      "metadata": {
        "id": "M96Jmzke3NKC"
      },
      "outputs": [],
      "source": [
        "import numpy as np\n",
        "from scipy import signal\n",
        "import matplotlib.pyplot as plt"
      ]
    },
    {
      "cell_type": "code",
      "source": [
        "# ALL PARAMS\n",
        "\n",
        "m_NaCl = 500 #g\n",
        "m_CaCO3 = 100 #g\n",
        "m_MgCl2 = 100 #g\n",
        "pH = 6 #of liquid phase\n",
        "F_i = 51 #L/h\n",
        "F_e = 51 #L/h\n",
        "F_ag = 18 #L/h\n",
        "c_Sin = 60 #g/L\n",
        "T_in = 273 + 25 # K\n",
        "T_inag = 273 + 15 # K\n",
        "\n",
        "A_1 = 9.5e8\n",
        "A_2 = 2.55e33\n",
        "A_T = 1 #m2\n",
        "C_heatag = 4.18 #J/g/K\n",
        "C_heatr = 4.18 #J/g/K\n",
        "E_a1 = 55000 #J/mol\n",
        "E_a2 = 220000 #J/mol\n",
        "H_Na = -0.550\n",
        "H_Ca = -0.303\n",
        "H_Mg = -0.314\n",
        "H_H = -0.774\n",
        "H_Cl = 0.844\n",
        "H_CO3 = 0.485\n",
        "H_HO = 0.941\n",
        "kla_0 = 38 #1/hr\n",
        "K_O2 = 8.86 #mg/L\n",
        "K_P =  0.139 #g/L\n",
        "K_P1 = 0.070 #g/L\n",
        "K_S = 1.030 #g/L\n",
        "K_S1 = 1.680 #g/L\n",
        "K_T = 3.6e5 #J/h/m2/K\n",
        "R_SP = 0.435\n",
        "R_SX = 0.607\n",
        "V = 1000 #L\n",
        "V_j = 50 #L\n",
        "Y_O2 = 0.970 #mg/mg\n",
        "deltaH_r = 518 #kJ/molO2\n",
        "mu_O2 = 0.5 #1/hr\n",
        "mu_P = 1.790 #1/hr\n",
        "rho_ag = 1000 #g/L\n",
        "rho_r = 1080 #g/L\n",
        "\n",
        "# gas constant\n",
        "Rg = 8.314 # J/mol K\n",
        "\n",
        "# molar masses (g/mol)\n",
        "M_Na = 22.99 \n",
        "M_NaCl = 58.44\n",
        "M_Ca = 40.08\n",
        "M_CaCO3 = 100.09\n",
        "M_Mg = 24.31\n",
        "M_MgCl2 = 95.21\n",
        "M_Cl = 35.45\n",
        "M_CO3 = 60.01"
      ],
      "metadata": {
        "id": "RxTuR08HZCtJ"
      },
      "execution_count": null,
      "outputs": []
    },
    {
      "cell_type": "code",
      "source": [
        "# steady state input variables\n",
        "Fi = 51\n",
        "Fe = 51\n",
        "Tin = 25\n",
        "Cs_in = 60\n",
        "Tin_ag = 15\n",
        "F_ag = 18\n",
        "\n",
        "# steady state state variables\n",
        "Cx = 0.905\n",
        "Cp = 12.5\n",
        "Cs = 29\n",
        "Co2 = 3.11\n",
        "Tr = 29.57\n",
        "Tag = 27.05\n",
        "V = Fe*Cp*np.exp(K_P1*Cp)*(K_S1+Cs)/(mu_P*Cx*Cs)"
      ],
      "metadata": {
        "id": "Qj74EY1K4LDV"
      },
      "execution_count": null,
      "outputs": []
    },
    {
      "cell_type": "code",
      "source": [
        "def mu_x(Tr):\n",
        "  return A_1*np.exp(-1*(E_a1/(Rg*(Tr + 273)))) - A_2*np.exp(-1*(E_a2/(Rg*(Tr + 273))))\n",
        "\n",
        "\n",
        "def kla(Tr):\n",
        "  return kla_0 * 1.024**(Tr-20)\n",
        "\n",
        "def dkla(Tr):\n",
        "  return kla_0*(1.024**(Tr-20))*np.log(1.024)\n",
        "\n",
        "def Co2_star0(Tr, V):\n",
        "  # molar concentration calculations (ions)\n",
        "  c_Na = m_NaCl*M_Na / (M_NaCl*V)\n",
        "  c_Ca = m_CaCO3*M_Ca / (M_CaCO3*V)\n",
        "  c_Mg = m_MgCl2*M_Mg / (M_MgCl2*V)\n",
        "  c_Cl = (m_NaCl/M_NaCl + 2*m_MgCl2/M_MgCl2) * M_Cl/V\n",
        "  c_CO3 = m_CaCO3*M_CO3 / (M_CaCO3*V)\n",
        "\n",
        "  # concentration from pH\n",
        "  c_H = 10**(-pH)\n",
        "  c_OH = 10**(pH-14)\n",
        "\n",
        "  # Ionic strength calculations (Eq 18)\n",
        "  I_Na = 0.5*c_Na\n",
        "  I_Ca = 0.5*c_Ca*(2**2)\n",
        "  I_Mg = 0.5*c_Mg*(2**2)\n",
        "  I_Cl = 0.5*c_Cl\n",
        "  I_CO3 = 0.5*c_CO3*(2**2)\n",
        "  I_H = 0.5*c_H\n",
        "  I_OH = 0.5*c_OH\n",
        "\n",
        "  # global effect of ionic strengths (Eq 26)\n",
        "  ionic_strengths = np.array ([I_Na, I_Ca, I_Mg, I_Cl, I_CO3, I_H, I_OH])\n",
        "  Hs = np.array ([H_Na, H_Ca, H_Mg, H_Cl, H_CO3, H_H, H_HO])\n",
        "\n",
        "  global_eff = np.dot (ionic_strengths, Hs)\n",
        "\n",
        "  # (Eq 27) equilibrium conc of O2 in H2O\n",
        "  Cstar_0 = 14.6 - 0.3943*Tr + 7.714e-3*(Tr**2) - 6.46e-5*(Tr**3)\n",
        "\n",
        "  return Cstar_0, global_eff\n",
        "\n",
        "def Co2_star(Tr, V):\n",
        "  Cstar_0, global_eff = Co2_star0(Tr, V)\n",
        "\n",
        "  # (Eq 28)\n",
        "  Cstar = Cstar_0 * 10**(-global_eff) \n",
        "\n",
        "  return Cstar\n",
        "\n",
        "def dCo2_star_Tr(Tr, V):\n",
        "  Cstar_0, global_eff = Co2_star0(Tr, V)\n",
        "\n",
        "  return 10**(-global_eff) * -0.3943 * 2*0.007714*Tr - 3*0.0000646*Tr**2\n",
        "\n",
        "def d10(V):\n",
        "  # molar concentration calculations (ions)\n",
        "  c_Na = m_NaCl*M_Na / (M_NaCl*V)\n",
        "  c_Ca = m_CaCO3*M_Ca / (M_CaCO3*V)\n",
        "  c_Mg = m_MgCl2*M_Mg / (M_MgCl2*V)\n",
        "  c_Cl = (m_NaCl/M_NaCl + 2*m_MgCl2/M_MgCl2) * M_Cl/V\n",
        "  c_CO3 = m_CaCO3*M_CO3 / (M_CaCO3*V)\n",
        "\n",
        "  # concentration from pH\n",
        "  c_H = 10**(-pH)\n",
        "  c_OH = 10**(pH-14)\n",
        "\n",
        "  # Ionic strength calculations (Eq 18)\n",
        "  I_Na = 0.5*c_Na\n",
        "  I_Ca = 0.5*c_Ca*(2**2)\n",
        "  I_Mg = 0.5*c_Mg*(2**2)\n",
        "  I_Cl = 0.5*c_Cl\n",
        "  I_CO3 = 0.5*c_CO3*(2**2)\n",
        "  I_H = 0.5*c_H\n",
        "  I_OH = 0.5*c_OH\n",
        "\n",
        "  # global effect of ionic strengths (Eq 26)\n",
        "  ionic_strengths = np.array ([I_Na, I_Ca, I_Mg, I_Cl, I_CO3, I_H, I_OH])\n",
        "  Hs = np.array ([H_Na, H_Ca, H_Mg, H_Cl, H_CO3, H_H, H_HO])\n",
        "\n",
        "  global_eff = np.dot (ionic_strengths, Hs)\n",
        "\n",
        "  return 10**(-global_eff) * np.log(10) * -1*(-1/V)*(H_Na*I_Na+H_Ca*I_Na+H_Mg*I_Mg + H_Cl*I_Cl + H_CO3*I_CO3)"
      ],
      "metadata": {
        "id": "4UiQpGSs6kDG"
      },
      "execution_count": null,
      "outputs": []
    },
    {
      "cell_type": "code",
      "source": [
        "# make A (partial derivatives with respect to state variables)\n",
        "\n",
        "# derivatives of f1 (dVdt)\n",
        "A11 = 0 # V\n",
        "A12 = 0 # Cx\n",
        "A13 = 0 # CP\n",
        "A14 = 0 # Cs\n",
        "A15 = 0 # CO2\n",
        "A16 = 0 # Tr\n",
        "A17 = 0 # Tag\n",
        "\n",
        "# derivatives of f2 (dCxdt)\n",
        "A21 = Fe*Cx/V**2 \n",
        "A22 = mu_x(Tr)*(Cs/(K_S+Cs))*np.exp(-K_P*Cp) - Fe/V \n",
        "A23 = -mu_x(Tr)*Cx*(Cs/(K_S+Cs))*np.exp(-K_P*Cp)*K_P\n",
        "A24 = K_S*mu_x(Tr)*Cx*np.exp(-K_P*Cp)/(K_S+Cs)**2\n",
        "A25 = 0\n",
        "A26 = (Cx*Cs*np.exp(-K_P*Cp)/(K_S+Cs))*(A_1*E_a1*np.exp(-1*(E_a1/(Rg*(Tr + 273))))/(Rg*(Tr+273)**2) - A_2*E_a2*np.exp(-1*(E_a2/(Rg*(Tr + 273))))/(Rg*(Tr+273)**2))\n",
        "A27 = 0\n",
        "\n",
        "# derivatives of f3 (dCpdt)\n",
        "A31 = Fe*Cp/V**2 \n",
        "A32 = mu_P*(Cs/(K_S1+Cs))*np.exp(-K_P1*Cp)\n",
        "A33 = -K_P1*mu_P*Cx*(Cs/(K_S1+Cs))*np.exp(-K_P1*Cp) - Fe/V\n",
        "A34 = K_S1*mu_P*Cx*np.exp(-K_P1*Cp)/(K_S1+Cs)**2\n",
        "A35 = 0\n",
        "A36 = 0\n",
        "A37 = 0\n",
        "\n",
        "# derivatives of f4 (dCsdt)\n",
        "A41 = (Fe*Cs -Fi*Cs_in)/V**2\n",
        "A42 = -mu_P*(Cs/(K_S1+Cs))*np.exp(-K_P1*Cp)/R_SP - mu_x(Tr)*(Cs/(K_S+Cs))*np.exp(-K_P*Cp)/R_SX\n",
        "A43 = (-mu_P*(Cs/(K_S1+Cs))*np.exp(-K_P1*Cp)*(-K_P1)/R_SP - mu_x(Tr)*(Cs/(K_S+Cs))*np.exp(-K_P*Cp)*(-K_P)/R_SX)*Cx\n",
        "A44 = -(K_S*mu_x(Tr)*Cx*np.exp(-K_P*Cp)/(K_S+Cs)**2)/R_SX - (K_S1*mu_P*Cx*np.exp(-K_P1*Cp)/(K_S1+Cs)**2)/R_SP - Fe/V\n",
        "A45 = 0\n",
        "A46 = -A26/R_SX\n",
        "A47 = 0\n",
        "\n",
        "# derivatives of f5 (dCO2dt)\n",
        "A51 = kla(Tr)*(14.6-0.3943*Tr+7.714e-3*(Tr**2)-6.46e-5*(Tr**3))*d10(V)\n",
        "A52 = -mu_O2*(1/Y_O2)*Co2/(K_O2+Co2)*1/1000\n",
        "A53 = 0\n",
        "A54 = 0\n",
        "A55 = -kla(Tr)-1/1000*mu_O2*(1/Y_O2)*Cx*K_O2/(K_O2-Co2)**2\n",
        "A56 = dkla(Tr)*(Co2_star(Tr, V)-Co2) - Co2*dCo2_star_Tr(Tr, V)\n",
        "A57 = 0\n",
        "\n",
        "# derivatives of f6 (dTrdT)\n",
        "A61 = -1/(V**2)*(Fi*(Tin+273) + Fe*(Tr+273) + K_T*A_T*(Tr-Tag)/(rho_r*C_heatr))\n",
        "A62 = deltaH_r/(32*rho_r*C_heatr)*mu_O2*(1/Y_O2)*(Co2/K_O2+Co2)\n",
        "A63 = 0\n",
        "A64 = 0\n",
        "A65 = deltaH_r/(32*rho_r*C_heatr)*mu_O2*(1/Y_O2)*Cx*K_O2/(K_O2-Co2)**2\n",
        "A66 = -Fe/V + K_T*A_T/(V*rho_r*C_heatr)\n",
        "A67 = -K_T*A_T/(V*rho_r*C_heatr)\n",
        "\n",
        "# derivative of f7 (dTagdt)\n",
        "A71 = 0\n",
        "A72 = 0\n",
        "A73 = 0\n",
        "A74 = 0\n",
        "A75 = 0\n",
        "A76 = K_T*A_T/(V_j*rho_ag*C_heatag)\n",
        "A77 = -F_ag/V_j - K_T*A_T/(V_j*rho_ag*C_heatag)\n",
        "\n",
        "# create A\n",
        "A = np.array([[A11, A12, A13, A14, A15, A16, A17],\n",
        "              [A21, A22, A23, A24, A25, A26, A27],\n",
        "              [A31, A32, A33, A34, A35, A36, A37],\n",
        "              [A41, A42, A43, A44, A45, A46, A47],\n",
        "              [A51, A52, A53, A54, A55, A56, A57],\n",
        "              [A61, A62, A63, A64, A65, A66, A67],\n",
        "              [A71, A72, A73, A74, A75, A76, A77]])\n",
        "A"
      ],
      "metadata": {
        "colab": {
          "base_uri": "https://localhost:8080/"
        },
        "id": "GU57rEdN3TE_",
        "outputId": "b1d561fc-1e9c-4bca-b165-e2d107a1622a"
      },
      "execution_count": null,
      "outputs": [
        {
          "output_type": "execute_result",
          "data": {
            "text/plain": [
              "array([[ 0.00000000e+00,  0.00000000e+00,  0.00000000e+00,\n",
              "         0.00000000e+00,  0.00000000e+00,  0.00000000e+00,\n",
              "         0.00000000e+00],\n",
              "       [ 4.62734137e-05,  5.27352126e-04, -6.49010774e-03,\n",
              "         5.52231277e-05,  0.00000000e+00,  3.37305809e-03,\n",
              "         0.00000000e+00],\n",
              "       [ 6.39135548e-04,  7.05322928e-01, -9.57475875e-02,\n",
              "         1.20529265e-03,  0.00000000e+00,  0.00000000e+00,\n",
              "         0.00000000e+00],\n",
              "       [-1.58505616e-03, -1.70642828e+00,  1.13409823e-01,\n",
              "        -5.39271449e-02,  0.00000000e+00, -5.55693260e-03,\n",
              "         0.00000000e+00],\n",
              "       [ 7.81362648e-02, -1.33925880e-04,  0.00000000e+00,\n",
              "         0.00000000e+00, -4.76820941e+01,  4.25431598e+00,\n",
              "         0.00000000e+00],\n",
              "       [-3.09091234e-02,  6.39707727e-03,  0.00000000e+00,\n",
              "         0.00000000e+00,  4.48254467e-04,  2.87816663e-02,\n",
              "        -7.98470463e-02],\n",
              "       [ 0.00000000e+00,  0.00000000e+00,  0.00000000e+00,\n",
              "         0.00000000e+00,  0.00000000e+00,  1.72248804e+00,\n",
              "        -2.08248804e+00]])"
            ]
          },
          "metadata": {},
          "execution_count": 195
        }
      ]
    },
    {
      "cell_type": "code",
      "source": [
        "# make B (partial derivatives with respect to inputs)\n",
        "\n",
        "# derivatives of f1 (dVdt)\n",
        "B11 = 1  # Fi\n",
        "B12 = -1 # Fe\n",
        "B13 = 0  # Tin\n",
        "B14 = 0  # Cs_in\n",
        "B15 = 0  # Tin_ag\n",
        "B16 = 0  # F_ag\n",
        "\n",
        "# derivativese of f2 (dCxdt)\n",
        "B21 = 0\n",
        "B22 = -1*Cx/V\n",
        "B23 = 0\n",
        "B24 = 0\n",
        "B25 = 0\n",
        "B26 = 0\n",
        "\n",
        "# derivatives of f3 (dCpdt)\n",
        "B31 = 0\n",
        "B32 = -1*Cp/V\n",
        "B33 = 0\n",
        "B34 = 0\n",
        "B35 = 0\n",
        "B36 = 0\n",
        "\n",
        "# derivatives of f4 (dCsdt)\n",
        "B41 = Cs_in/V\n",
        "B42 = Cs/V\n",
        "B43 = 0\n",
        "B44 = Fi/V\n",
        "B45 = 0\n",
        "B46 = 0\n",
        "\n",
        "# derivatives of f5 (dCO2dt)\n",
        "B51 = 0\n",
        "B52 = 0\n",
        "B53 = 0\n",
        "B54 = 0\n",
        "B55 = 0\n",
        "B56 = 0\n",
        "\n",
        "# derivatives of f6 (dTrdT)\n",
        "B61 = 1/V * (Tin + 273)\n",
        "B62 = -1/V * (Tr + 273)\n",
        "B63 = Fi/V\n",
        "B64 = 0\n",
        "B65 = 0\n",
        "B66 = 0\n",
        "\n",
        "# derivatives of f7 (dTagdt)\n",
        "B71 = 0\n",
        "B72 = 0\n",
        "B73 = 0\n",
        "B74 = 0\n",
        "B75 = F_ag/V_j\n",
        "B76 = 1/V_j*(Tin_ag-Tag)\n",
        "\n",
        "# create B\n",
        "B = np.array([[B11, B12, B13, B14, B15, B16],\n",
        "              [B21, B22, B23, B24, B25, B26],\n",
        "              [B31, B32, B33, B34, B35, B36],\n",
        "              [B41, B42, B43, B44, B45, B46],\n",
        "              [B51, B52, B53, B54, B55, B56],\n",
        "              [B61, B62, B63, B65, B65, B66],\n",
        "              [B71, B72, B73, B74, B75, B76]])"
      ],
      "metadata": {
        "id": "Lx_kzWQO3nn_"
      },
      "execution_count": null,
      "outputs": []
    },
    {
      "cell_type": "code",
      "source": [
        "# create C\n",
        "C = np.eye(7)\n",
        "C"
      ],
      "metadata": {
        "colab": {
          "base_uri": "https://localhost:8080/"
        },
        "id": "qJShpVTNXOa2",
        "outputId": "a18c3aaa-0d87-4159-acf9-d2558b4b57a8"
      },
      "execution_count": null,
      "outputs": [
        {
          "output_type": "execute_result",
          "data": {
            "text/plain": [
              "array([[1., 0., 0., 0., 0., 0., 0.],\n",
              "       [0., 1., 0., 0., 0., 0., 0.],\n",
              "       [0., 0., 1., 0., 0., 0., 0.],\n",
              "       [0., 0., 0., 1., 0., 0., 0.],\n",
              "       [0., 0., 0., 0., 1., 0., 0.],\n",
              "       [0., 0., 0., 0., 0., 1., 0.],\n",
              "       [0., 0., 0., 0., 0., 0., 1.]])"
            ]
          },
          "metadata": {},
          "execution_count": 178
        }
      ]
    },
    {
      "cell_type": "code",
      "source": [
        "# create D\n",
        "D = np.zeros((7,6))\n",
        "D"
      ],
      "metadata": {
        "colab": {
          "base_uri": "https://localhost:8080/"
        },
        "id": "tZiSwqvvXSBO",
        "outputId": "7f530f3b-9a86-4900-90a2-d38ff10d4aa5"
      },
      "execution_count": null,
      "outputs": [
        {
          "output_type": "execute_result",
          "data": {
            "text/plain": [
              "array([[0., 0., 0., 0., 0., 0.],\n",
              "       [0., 0., 0., 0., 0., 0.],\n",
              "       [0., 0., 0., 0., 0., 0.],\n",
              "       [0., 0., 0., 0., 0., 0.],\n",
              "       [0., 0., 0., 0., 0., 0.],\n",
              "       [0., 0., 0., 0., 0., 0.],\n",
              "       [0., 0., 0., 0., 0., 0.]])"
            ]
          },
          "metadata": {},
          "execution_count": 179
        }
      ]
    },
    {
      "cell_type": "code",
      "source": [
        "continuous_model = signal.StateSpace(A, B, C, D)\n",
        "continuous_model"
      ],
      "metadata": {
        "colab": {
          "base_uri": "https://localhost:8080/"
        },
        "id": "knnU_XJ6XWhR",
        "outputId": "4d2d2a4e-d915-49ba-8f21-e8621ca776ee"
      },
      "execution_count": null,
      "outputs": [
        {
          "output_type": "execute_result",
          "data": {
            "text/plain": [
              "StateSpaceContinuous(\n",
              "array([[ 0.00000000e+00,  0.00000000e+00,  0.00000000e+00,\n",
              "         0.00000000e+00,  0.00000000e+00,  0.00000000e+00,\n",
              "         0.00000000e+00],\n",
              "       [ 4.62734137e-08,  5.27352126e-07, -6.49010774e-06,\n",
              "         5.52231277e-08,  0.00000000e+00,  3.37305809e-06,\n",
              "         0.00000000e+00],\n",
              "       [ 6.39135548e-07,  7.05322928e-04, -9.57475875e-05,\n",
              "         1.20529265e-06,  0.00000000e+00,  0.00000000e+00,\n",
              "         0.00000000e+00],\n",
              "       [-1.58505616e-06, -1.70642828e-03,  1.13409823e-04,\n",
              "        -5.39271449e-05,  0.00000000e+00, -5.55693260e-06,\n",
              "         0.00000000e+00],\n",
              "       [ 7.81362648e-05, -1.33925880e-07,  0.00000000e+00,\n",
              "         0.00000000e+00, -4.76820941e-02,  4.25431598e-03,\n",
              "         0.00000000e+00],\n",
              "       [-3.09091234e-05,  6.39707727e-06,  0.00000000e+00,\n",
              "         0.00000000e+00,  4.48254467e-07,  2.87816663e-05,\n",
              "        -7.98470463e-05],\n",
              "       [ 0.00000000e+00,  0.00000000e+00,  0.00000000e+00,\n",
              "         0.00000000e+00,  0.00000000e+00,  1.72248804e-03,\n",
              "        -2.08248804e-03]]),\n",
              "array([[ 1.00000000e-03, -1.00000000e-03,  0.00000000e+00,\n",
              "         0.00000000e+00,  0.00000000e+00,  0.00000000e+00],\n",
              "       [ 0.00000000e+00, -9.06160175e-07,  0.00000000e+00,\n",
              "         0.00000000e+00,  0.00000000e+00,  0.00000000e+00],\n",
              "       [ 0.00000000e+00, -1.25160245e-05,  0.00000000e+00,\n",
              "         0.00000000e+00,  0.00000000e+00,  0.00000000e+00],\n",
              "       [ 6.00769177e-05,  2.90371769e-05,  0.00000000e+00,\n",
              "         5.10653800e-05,  0.00000000e+00,  0.00000000e+00],\n",
              "       [ 0.00000000e+00,  0.00000000e+00,  0.00000000e+00,\n",
              "         0.00000000e+00,  0.00000000e+00,  0.00000000e+00],\n",
              "       [ 2.98382024e-04, -3.02957883e-04,  5.10653800e-05,\n",
              "         0.00000000e+00,  0.00000000e+00,  0.00000000e+00],\n",
              "       [ 0.00000000e+00,  0.00000000e+00,  0.00000000e+00,\n",
              "         0.00000000e+00,  3.60000000e-04, -2.41000000e-04]]),\n",
              "array([[1., 0., 0., 0., 0., 0., 0.],\n",
              "       [0., 1., 0., 0., 0., 0., 0.],\n",
              "       [0., 0., 1., 0., 0., 0., 0.],\n",
              "       [0., 0., 0., 1., 0., 0., 0.],\n",
              "       [0., 0., 0., 0., 1., 0., 0.],\n",
              "       [0., 0., 0., 0., 0., 1., 0.],\n",
              "       [0., 0., 0., 0., 0., 0., 1.]]),\n",
              "array([[0., 0., 0., 0., 0., 0.],\n",
              "       [0., 0., 0., 0., 0., 0.],\n",
              "       [0., 0., 0., 0., 0., 0.],\n",
              "       [0., 0., 0., 0., 0., 0.],\n",
              "       [0., 0., 0., 0., 0., 0.],\n",
              "       [0., 0., 0., 0., 0., 0.],\n",
              "       [0., 0., 0., 0., 0., 0.]]),\n",
              "dt: None\n",
              ")"
            ]
          },
          "metadata": {},
          "execution_count": 180
        }
      ]
    },
    {
      "cell_type": "code",
      "source": [
        "discrete_model = continuous_model.to_discrete(dt = 1)\n",
        "discrete_model"
      ],
      "metadata": {
        "colab": {
          "base_uri": "https://localhost:8080/"
        },
        "id": "bH9EantVXvH6",
        "outputId": "4c1dfe66-035b-4948-eb60-1191689e387e"
      },
      "execution_count": null,
      "outputs": [
        {
          "output_type": "execute_result",
          "data": {
            "text/plain": [
              "StateSpaceDiscrete(\n",
              "array([[ 1.00000000e+00,  0.00000000e+00,  0.00000000e+00,\n",
              "         0.00000000e+00,  0.00000000e+00,  0.00000000e+00,\n",
              "         0.00000000e+00],\n",
              "       [ 4.62191785e-08,  1.00000053e+00, -6.48979562e-06,\n",
              "         5.52177422e-08,  7.44127530e-13,  3.37310729e-06,\n",
              "        -1.34572242e-10],\n",
              "       [ 6.39120302e-07,  7.05288320e-04,  9.99904255e-01,\n",
              "         1.20522193e-06,  1.75143785e-16,  1.18617133e-09,\n",
              "        -3.15545117e-14],\n",
              "       [-1.58493075e-06, -1.70634275e-03,  1.13406874e-04,\n",
              "         9.99946074e-01, -1.22631289e-12, -5.55974049e-06,\n",
              "         2.21773102e-10],\n",
              "       [ 7.62379565e-05, -1.17389131e-07,  3.98666835e-13,\n",
              "        -3.39206816e-15,  9.53436843e-01,  4.15454185e-03,\n",
              "        -1.67064759e-07],\n",
              "       [-3.09095501e-05,  6.39717083e-06, -2.07583936e-11,\n",
              "         1.76623516e-13,  4.37741802e-07,  1.00002871e+00,\n",
              "        -7.97651102e-05],\n",
              "       [-2.66020734e-08,  5.50567579e-09, -1.19125593e-14,\n",
              "         1.01359261e-16,  3.79731907e-10,  1.72072048e-03,\n",
              "         9.97919610e-01]]),\n",
              "array([[ 1.00000000e-03, -1.00000000e-03,  0.00000000e+00,\n",
              "         0.00000000e+00,  0.00000000e+00,  0.00000000e+00],\n",
              "       [ 5.28012184e-10, -9.06653068e-07,  8.61240844e-11,\n",
              "         1.40990333e-12, -1.61514318e-14,  1.08124863e-14],\n",
              "       [ 3.55884388e-10, -1.25160471e-05,  2.01908799e-14,\n",
              "         3.07731598e-11, -2.84021155e-18,  1.90136384e-18],\n",
              "       [ 6.00736760e-05,  2.90380919e-05, -1.41931234e-10,\n",
              "         5.10640031e-05,  2.66151484e-14, -1.78173632e-14],\n",
              "       [ 6.63175658e-07, -6.72756390e-07,  1.06919070e-07,\n",
              "        -5.90312495e-20, -2.01306511e-11,  1.34763525e-11],\n",
              "       [ 2.98370857e-04, -3.02946784e-04,  5.10661137e-05,\n",
              "         3.00649065e-18, -1.43626344e-08,  9.61498578e-09],\n",
              "       [ 2.56795033e-07, -2.60733269e-07,  4.39496611e-08,\n",
              "         1.29413277e-21,  3.59625404e-04, -2.40749229e-04]]),\n",
              "array([[1., 0., 0., 0., 0., 0., 0.],\n",
              "       [0., 1., 0., 0., 0., 0., 0.],\n",
              "       [0., 0., 1., 0., 0., 0., 0.],\n",
              "       [0., 0., 0., 1., 0., 0., 0.],\n",
              "       [0., 0., 0., 0., 1., 0., 0.],\n",
              "       [0., 0., 0., 0., 0., 1., 0.],\n",
              "       [0., 0., 0., 0., 0., 0., 1.]]),\n",
              "array([[0., 0., 0., 0., 0., 0.],\n",
              "       [0., 0., 0., 0., 0., 0.],\n",
              "       [0., 0., 0., 0., 0., 0.],\n",
              "       [0., 0., 0., 0., 0., 0.],\n",
              "       [0., 0., 0., 0., 0., 0.],\n",
              "       [0., 0., 0., 0., 0., 0.],\n",
              "       [0., 0., 0., 0., 0., 0.]]),\n",
              "dt: 1\n",
              ")"
            ]
          },
          "metadata": {},
          "execution_count": 181
        }
      ]
    },
    {
      "cell_type": "code",
      "source": [
        "# step response model\n",
        "x0 = np.array([V, Cx, Cp, Cs, Co2, Tr, Tag])\n",
        "step, output_response = signal.dstep(discrete_model, x0 = x0, n = 300)"
      ],
      "metadata": {
        "id": "Svi1SG4OX80q"
      },
      "execution_count": null,
      "outputs": []
    },
    {
      "cell_type": "code",
      "source": [
        "step"
      ],
      "metadata": {
        "colab": {
          "base_uri": "https://localhost:8080/"
        },
        "id": "pbhbpNgEYaDo",
        "outputId": "3e4422c5-f0a1-4fff-d218-d577098a1bd5"
      },
      "execution_count": null,
      "outputs": [
        {
          "output_type": "execute_result",
          "data": {
            "text/plain": [
              "array([  0.,   1.,   2.,   3.,   4.,   5.,   6.,   7.,   8.,   9.,  10.,\n",
              "        11.,  12.,  13.,  14.,  15.,  16.,  17.,  18.,  19.,  20.,  21.,\n",
              "        22.,  23.,  24.,  25.,  26.,  27.,  28.,  29.,  30.,  31.,  32.,\n",
              "        33.,  34.,  35.,  36.,  37.,  38.,  39.,  40.,  41.,  42.,  43.,\n",
              "        44.,  45.,  46.,  47.,  48.,  49.,  50.,  51.,  52.,  53.,  54.,\n",
              "        55.,  56.,  57.,  58.,  59.,  60.,  61.,  62.,  63.,  64.,  65.,\n",
              "        66.,  67.,  68.,  69.,  70.,  71.,  72.,  73.,  74.,  75.,  76.,\n",
              "        77.,  78.,  79.,  80.,  81.,  82.,  83.,  84.,  85.,  86.,  87.,\n",
              "        88.,  89.,  90.,  91.,  92.,  93.,  94.,  95.,  96.,  97.,  98.,\n",
              "        99., 100., 101., 102., 103., 104., 105., 106., 107., 108., 109.,\n",
              "       110., 111., 112., 113., 114., 115., 116., 117., 118., 119., 120.,\n",
              "       121., 122., 123., 124., 125., 126., 127., 128., 129., 130., 131.,\n",
              "       132., 133., 134., 135., 136., 137., 138., 139., 140., 141., 142.,\n",
              "       143., 144., 145., 146., 147., 148., 149., 150., 151., 152., 153.,\n",
              "       154., 155., 156., 157., 158., 159., 160., 161., 162., 163., 164.,\n",
              "       165., 166., 167., 168., 169., 170., 171., 172., 173., 174., 175.,\n",
              "       176., 177., 178., 179., 180., 181., 182., 183., 184., 185., 186.,\n",
              "       187., 188., 189., 190., 191., 192., 193., 194., 195., 196., 197.,\n",
              "       198., 199., 200., 201., 202., 203., 204., 205., 206., 207., 208.,\n",
              "       209., 210., 211., 212., 213., 214., 215., 216., 217., 218., 219.,\n",
              "       220., 221., 222., 223., 224., 225., 226., 227., 228., 229., 230.,\n",
              "       231., 232., 233., 234., 235., 236., 237., 238., 239., 240., 241.,\n",
              "       242., 243., 244., 245., 246., 247., 248., 249., 250., 251., 252.,\n",
              "       253., 254., 255., 256., 257., 258., 259., 260., 261., 262., 263.,\n",
              "       264., 265., 266., 267., 268., 269., 270., 271., 272., 273., 274.,\n",
              "       275., 276., 277., 278., 279., 280., 281., 282., 283., 284., 285.,\n",
              "       286., 287., 288., 289., 290., 291., 292., 293., 294., 295., 296.,\n",
              "       297., 298., 299.])"
            ]
          },
          "metadata": {},
          "execution_count": 183
        }
      ]
    },
    {
      "cell_type": "code",
      "source": [
        "# get output response\n",
        "Fi_response = output_response[0]\n",
        "Fe_response = output_response[1]\n",
        "Tin_response = output_response[2]\n",
        "Cs_in_response = output_response[3]\n",
        "Tin_ag_response = output_response[4]\n",
        "F_ag_response = output_response[5]"
      ],
      "metadata": {
        "id": "UrF6F2KkYawU"
      },
      "execution_count": null,
      "outputs": []
    },
    {
      "cell_type": "code",
      "source": [
        "plt.plot(step, F_ag_response.T[2])"
      ],
      "metadata": {
        "colab": {
          "base_uri": "https://localhost:8080/",
          "height": 448
        },
        "id": "zq812BjyYsLy",
        "outputId": "a7099bd3-6f5a-499a-b1ee-75fceabdffe1"
      },
      "execution_count": null,
      "outputs": [
        {
          "output_type": "execute_result",
          "data": {
            "text/plain": [
              "[<matplotlib.lines.Line2D at 0x7f9375475460>]"
            ]
          },
          "metadata": {},
          "execution_count": 193
        },
        {
          "output_type": "display_data",
          "data": {
            "text/plain": [
              "<Figure size 640x480 with 1 Axes>"
            ],
            "image/png": "[encoded data removed]"
          },
          "metadata": {}
        }
      ]
    }
  ]
}